{
 "cells": [
  {
   "cell_type": "code",
   "execution_count": 2,
   "metadata": {
    "colab": {
     "base_uri": "https://localhost:8080/",
     "height": 122
    },
    "colab_type": "code",
    "executionInfo": {
     "elapsed": 303249,
     "status": "ok",
     "timestamp": 1580315214044,
     "user": {
      "displayName": "Mojtaba Jafari tadi",
      "photoUrl": "",
      "userId": "13580919350484230920"
     },
     "user_tz": -120
    },
    "id": "s0wQfoaWDURP",
    "outputId": "602ad5ef-c653-492f-9eaf-4de4c616a446"
   },
   "outputs": [
    {
     "name": "stdout",
     "output_type": "stream",
     "text": [
      "Go to this URL in a browser: https://accounts.google.com/o/oauth2/auth?client_id=947318989803-6bn6qk8qdgf4n4g3pfee6491hc0brc4i.apps.googleusercontent.com&redirect_uri=urn%3aietf%3awg%3aoauth%3a2.0%3aoob&response_type=code&scope=email%20https%3a%2f%2fwww.googleapis.com%2fauth%2fdocs.test%20https%3a%2f%2fwww.googleapis.com%2fauth%2fdrive%20https%3a%2f%2fwww.googleapis.com%2fauth%2fdrive.photos.readonly%20https%3a%2f%2fwww.googleapis.com%2fauth%2fpeopleapi.readonly\n",
      "\n",
      "Enter your authorization code:\n",
      "··········\n",
      "Mounted at /content/drive\n"
     ]
    }
   ],
   "source": [
    "from google.colab import drive\n",
    "\n",
    "\n",
    "drive.mount('/content/drive', force_remount=True)"
   ]
  },
  {
   "cell_type": "code",
   "execution_count": 3,
   "metadata": {
    "colab": {
     "base_uri": "https://localhost:8080/",
     "height": 904
    },
    "colab_type": "code",
    "executionInfo": {
     "elapsed": 374981,
     "status": "ok",
     "timestamp": 1580315285794,
     "user": {
      "displayName": "Mojtaba Jafari tadi",
      "photoUrl": "",
      "userId": "13580919350484230920"
     },
     "user_tz": -120
    },
    "id": "cLlfSPxGDLyZ",
    "outputId": "c6c3956f-5c99-4040-f7fb-5526aecb1f8a"
   },
   "outputs": [
    {
     "name": "stdout",
     "output_type": "stream",
     "text": [
      "Collecting tensorflow-gpu==1.14.0\n",
      "\u001b[?25l  Downloading https://files.pythonhosted.org/packages/76/04/43153bfdfcf6c9a4c38ecdb971ca9a75b9a791bb69a764d652c359aca504/tensorflow_gpu-1.14.0-cp36-cp36m-manylinux1_x86_64.whl (377.0MB)\n",
      "\u001b[K     |████████████████████████████████| 377.0MB 44kB/s \n",
      "\u001b[?25hRequirement already satisfied: google-pasta>=0.1.6 in /usr/local/lib/python3.6/dist-packages (from tensorflow-gpu==1.14.0) (0.1.8)\n",
      "Requirement already satisfied: gast>=0.2.0 in /usr/local/lib/python3.6/dist-packages (from tensorflow-gpu==1.14.0) (0.2.2)\n",
      "Requirement already satisfied: six>=1.10.0 in /usr/local/lib/python3.6/dist-packages (from tensorflow-gpu==1.14.0) (1.12.0)\n",
      "Collecting tensorflow-estimator<1.15.0rc0,>=1.14.0rc0\n",
      "\u001b[?25l  Downloading https://files.pythonhosted.org/packages/3c/d5/21860a5b11caf0678fbc8319341b0ae21a07156911132e0e71bffed0510d/tensorflow_estimator-1.14.0-py2.py3-none-any.whl (488kB)\n",
      "\u001b[K     |████████████████████████████████| 491kB 49.4MB/s \n",
      "\u001b[?25hRequirement already satisfied: grpcio>=1.8.6 in /usr/local/lib/python3.6/dist-packages (from tensorflow-gpu==1.14.0) (1.15.0)\n",
      "Requirement already satisfied: absl-py>=0.7.0 in /usr/local/lib/python3.6/dist-packages (from tensorflow-gpu==1.14.0) (0.9.0)\n",
      "Requirement already satisfied: protobuf>=3.6.1 in /usr/local/lib/python3.6/dist-packages (from tensorflow-gpu==1.14.0) (3.10.0)\n",
      "Requirement already satisfied: numpy<2.0,>=1.14.5 in /usr/local/lib/python3.6/dist-packages (from tensorflow-gpu==1.14.0) (1.17.5)\n",
      "Requirement already satisfied: termcolor>=1.1.0 in /usr/local/lib/python3.6/dist-packages (from tensorflow-gpu==1.14.0) (1.1.0)\n",
      "Requirement already satisfied: wrapt>=1.11.1 in /usr/local/lib/python3.6/dist-packages (from tensorflow-gpu==1.14.0) (1.11.2)\n",
      "Requirement already satisfied: keras-preprocessing>=1.0.5 in /usr/local/lib/python3.6/dist-packages (from tensorflow-gpu==1.14.0) (1.1.0)\n",
      "Requirement already satisfied: astor>=0.6.0 in /usr/local/lib/python3.6/dist-packages (from tensorflow-gpu==1.14.0) (0.8.1)\n",
      "Collecting tensorboard<1.15.0,>=1.14.0\n",
      "\u001b[?25l  Downloading https://files.pythonhosted.org/packages/91/2d/2ed263449a078cd9c8a9ba50ebd50123adf1f8cfbea1492f9084169b89d9/tensorboard-1.14.0-py3-none-any.whl (3.1MB)\n",
      "\u001b[K     |████████████████████████████████| 3.2MB 46.9MB/s \n",
      "\u001b[?25hRequirement already satisfied: wheel>=0.26 in /usr/local/lib/python3.6/dist-packages (from tensorflow-gpu==1.14.0) (0.33.6)\n",
      "Requirement already satisfied: keras-applications>=1.0.6 in /usr/local/lib/python3.6/dist-packages (from tensorflow-gpu==1.14.0) (1.0.8)\n",
      "Requirement already satisfied: setuptools in /usr/local/lib/python3.6/dist-packages (from protobuf>=3.6.1->tensorflow-gpu==1.14.0) (42.0.2)\n",
      "Requirement already satisfied: markdown>=2.6.8 in /usr/local/lib/python3.6/dist-packages (from tensorboard<1.15.0,>=1.14.0->tensorflow-gpu==1.14.0) (3.1.1)\n",
      "Requirement already satisfied: werkzeug>=0.11.15 in /usr/local/lib/python3.6/dist-packages (from tensorboard<1.15.0,>=1.14.0->tensorflow-gpu==1.14.0) (0.16.0)\n",
      "Requirement already satisfied: h5py in /usr/local/lib/python3.6/dist-packages (from keras-applications>=1.0.6->tensorflow-gpu==1.14.0) (2.8.0)\n",
      "\u001b[31mERROR: tensorflow 1.15.0 has requirement tensorboard<1.16.0,>=1.15.0, but you'll have tensorboard 1.14.0 which is incompatible.\u001b[0m\n",
      "\u001b[31mERROR: tensorflow 1.15.0 has requirement tensorflow-estimator==1.15.1, but you'll have tensorflow-estimator 1.14.0 which is incompatible.\u001b[0m\n",
      "Installing collected packages: tensorflow-estimator, tensorboard, tensorflow-gpu\n",
      "  Found existing installation: tensorflow-estimator 1.15.1\n",
      "    Uninstalling tensorflow-estimator-1.15.1:\n",
      "      Successfully uninstalled tensorflow-estimator-1.15.1\n",
      "  Found existing installation: tensorboard 1.15.0\n",
      "    Uninstalling tensorboard-1.15.0:\n",
      "      Successfully uninstalled tensorboard-1.15.0\n",
      "Successfully installed tensorboard-1.14.0 tensorflow-estimator-1.14.0 tensorflow-gpu-1.14.0\n",
      "Collecting keras==2.3.0\n",
      "\u001b[?25l  Downloading https://files.pythonhosted.org/packages/1b/18/2e1ef121e5560ac24c7ac9e363aa5fa7006c40563c989e7211aba95b793a/Keras-2.3.0-py2.py3-none-any.whl (377kB)\n",
      "\u001b[K     |████████████████████████████████| 378kB 2.8MB/s \n",
      "\u001b[?25hRequirement already satisfied: h5py in /usr/local/lib/python3.6/dist-packages (from keras==2.3.0) (2.8.0)\n",
      "Requirement already satisfied: keras-preprocessing>=1.0.5 in /usr/local/lib/python3.6/dist-packages (from keras==2.3.0) (1.1.0)\n",
      "Requirement already satisfied: numpy>=1.9.1 in /usr/local/lib/python3.6/dist-packages (from keras==2.3.0) (1.17.5)\n",
      "Requirement already satisfied: pyyaml in /usr/local/lib/python3.6/dist-packages (from keras==2.3.0) (3.13)\n",
      "Requirement already satisfied: scipy>=0.14 in /usr/local/lib/python3.6/dist-packages (from keras==2.3.0) (1.4.1)\n",
      "Requirement already satisfied: keras-applications>=1.0.6 in /usr/local/lib/python3.6/dist-packages (from keras==2.3.0) (1.0.8)\n",
      "Requirement already satisfied: six>=1.9.0 in /usr/local/lib/python3.6/dist-packages (from keras==2.3.0) (1.12.0)\n",
      "Installing collected packages: keras\n",
      "  Found existing installation: Keras 2.2.5\n",
      "    Uninstalling Keras-2.2.5:\n",
      "      Successfully uninstalled Keras-2.2.5\n",
      "Successfully installed keras-2.3.0\n"
     ]
    }
   ],
   "source": [
    "!pip install tensorflow-gpu==1.14.0\n",
    "!pip install  keras==2.3.0\n",
    "#!pip install mxnet-cu92\n",
    "#!pip install git+https://www.github.com/keras-team/keras-contrib.git"
   ]
  },
  {
   "cell_type": "code",
   "execution_count": 4,
   "metadata": {
    "colab": {
     "base_uri": "https://localhost:8080/",
     "height": 508
    },
    "colab_type": "code",
    "executionInfo": {
     "elapsed": 377525,
     "status": "ok",
     "timestamp": 1580315288354,
     "user": {
      "displayName": "Mojtaba Jafari tadi",
      "photoUrl": "",
      "userId": "13580919350484230920"
     },
     "user_tz": -120
    },
    "id": "MKuKhSk7G0MS",
    "outputId": "1e515c2b-9335-499d-deb6-4d545717ac7e"
   },
   "outputs": [
    {
     "name": "stderr",
     "output_type": "stream",
     "text": [
      "/usr/local/lib/python3.6/dist-packages/tensorflow/python/framework/dtypes.py:516: FutureWarning: Passing (type, 1) or '1type' as a synonym of type is deprecated; in a future version of numpy, it will be understood as (type, (1,)) / '(1,)type'.\n",
      "  _np_qint8 = np.dtype([(\"qint8\", np.int8, 1)])\n",
      "/usr/local/lib/python3.6/dist-packages/tensorflow/python/framework/dtypes.py:517: FutureWarning: Passing (type, 1) or '1type' as a synonym of type is deprecated; in a future version of numpy, it will be understood as (type, (1,)) / '(1,)type'.\n",
      "  _np_quint8 = np.dtype([(\"quint8\", np.uint8, 1)])\n",
      "/usr/local/lib/python3.6/dist-packages/tensorflow/python/framework/dtypes.py:518: FutureWarning: Passing (type, 1) or '1type' as a synonym of type is deprecated; in a future version of numpy, it will be understood as (type, (1,)) / '(1,)type'.\n",
      "  _np_qint16 = np.dtype([(\"qint16\", np.int16, 1)])\n",
      "/usr/local/lib/python3.6/dist-packages/tensorflow/python/framework/dtypes.py:519: FutureWarning: Passing (type, 1) or '1type' as a synonym of type is deprecated; in a future version of numpy, it will be understood as (type, (1,)) / '(1,)type'.\n",
      "  _np_quint16 = np.dtype([(\"quint16\", np.uint16, 1)])\n",
      "/usr/local/lib/python3.6/dist-packages/tensorflow/python/framework/dtypes.py:520: FutureWarning: Passing (type, 1) or '1type' as a synonym of type is deprecated; in a future version of numpy, it will be understood as (type, (1,)) / '(1,)type'.\n",
      "  _np_qint32 = np.dtype([(\"qint32\", np.int32, 1)])\n",
      "/usr/local/lib/python3.6/dist-packages/tensorflow/python/framework/dtypes.py:525: FutureWarning: Passing (type, 1) or '1type' as a synonym of type is deprecated; in a future version of numpy, it will be understood as (type, (1,)) / '(1,)type'.\n",
      "  np_resource = np.dtype([(\"resource\", np.ubyte, 1)])\n",
      "/usr/local/lib/python3.6/dist-packages/tensorboard/compat/tensorflow_stub/dtypes.py:541: FutureWarning: Passing (type, 1) or '1type' as a synonym of type is deprecated; in a future version of numpy, it will be understood as (type, (1,)) / '(1,)type'.\n",
      "  _np_qint8 = np.dtype([(\"qint8\", np.int8, 1)])\n",
      "/usr/local/lib/python3.6/dist-packages/tensorboard/compat/tensorflow_stub/dtypes.py:542: FutureWarning: Passing (type, 1) or '1type' as a synonym of type is deprecated; in a future version of numpy, it will be understood as (type, (1,)) / '(1,)type'.\n",
      "  _np_quint8 = np.dtype([(\"quint8\", np.uint8, 1)])\n",
      "/usr/local/lib/python3.6/dist-packages/tensorboard/compat/tensorflow_stub/dtypes.py:543: FutureWarning: Passing (type, 1) or '1type' as a synonym of type is deprecated; in a future version of numpy, it will be understood as (type, (1,)) / '(1,)type'.\n",
      "  _np_qint16 = np.dtype([(\"qint16\", np.int16, 1)])\n",
      "/usr/local/lib/python3.6/dist-packages/tensorboard/compat/tensorflow_stub/dtypes.py:544: FutureWarning: Passing (type, 1) or '1type' as a synonym of type is deprecated; in a future version of numpy, it will be understood as (type, (1,)) / '(1,)type'.\n",
      "  _np_quint16 = np.dtype([(\"quint16\", np.uint16, 1)])\n",
      "/usr/local/lib/python3.6/dist-packages/tensorboard/compat/tensorflow_stub/dtypes.py:545: FutureWarning: Passing (type, 1) or '1type' as a synonym of type is deprecated; in a future version of numpy, it will be understood as (type, (1,)) / '(1,)type'.\n",
      "  _np_qint32 = np.dtype([(\"qint32\", np.int32, 1)])\n",
      "/usr/local/lib/python3.6/dist-packages/tensorboard/compat/tensorflow_stub/dtypes.py:550: FutureWarning: Passing (type, 1) or '1type' as a synonym of type is deprecated; in a future version of numpy, it will be understood as (type, (1,)) / '(1,)type'.\n",
      "  np_resource = np.dtype([(\"resource\", np.ubyte, 1)])\n"
     ]
    },
    {
     "data": {
      "text/html": [
       "<p style=\"color: red;\">\n",
       "The default version of TensorFlow in Colab will soon switch to TensorFlow 2.x.<br>\n",
       "We recommend you <a href=\"https://www.tensorflow.org/guide/migrate\" target=\"_blank\">upgrade</a> now \n",
       "or ensure your notebook will continue to use TensorFlow 1.x via the <code>%tensorflow_version 1.x</code> magic:\n",
       "<a href=\"https://colab.research.google.com/notebooks/tensorflow_version.ipynb\" target=\"_blank\">more info</a>.</p>\n"
      ],
      "text/plain": [
       "<IPython.core.display.HTML object>"
      ]
     },
     "metadata": {
      "tags": []
     },
     "output_type": "display_data"
    },
    {
     "data": {
      "text/plain": [
       "'/device:GPU:0'"
      ]
     },
     "execution_count": 4,
     "metadata": {
      "tags": []
     },
     "output_type": "execute_result"
    }
   ],
   "source": [
    "from __future__ import absolute_import, division, print_function, unicode_literals\n",
    "import tensorflow as tf\n",
    "\n",
    "tf.keras.backend.clear_session()  # For easy reset of notebook state.\n",
    "\n",
    "tf.test.gpu_device_name()"
   ]
  },
  {
   "cell_type": "code",
   "execution_count": 0,
   "metadata": {
    "colab": {},
    "colab_type": "code",
    "id": "lBbFh4ciQaOr"
   },
   "outputs": [],
   "source": [
    "import sys\n",
    "sys.path.append('/content/drive/My Drive/Colab Notebooks/CAD Project')"
   ]
  },
  {
   "cell_type": "code",
   "execution_count": 6,
   "metadata": {
    "colab": {
     "base_uri": "https://localhost:8080/",
     "height": 105
    },
    "colab_type": "code",
    "executionInfo": {
     "elapsed": 392240,
     "status": "ok",
     "timestamp": 1580315303095,
     "user": {
      "displayName": "Mojtaba Jafari tadi",
      "photoUrl": "",
      "userId": "13580919350484230920"
     },
     "user_tz": -120
    },
    "id": "UM1m5SPODLye",
    "outputId": "6421e849-77c8-40dc-dc80-95cc5ec91505"
   },
   "outputs": [
    {
     "name": "stdout",
     "output_type": "stream",
     "text": [
      "1.14.0\n"
     ]
    },
    {
     "name": "stderr",
     "output_type": "stream",
     "text": [
      "Using TensorFlow backend.\n"
     ]
    },
    {
     "name": "stdout",
     "output_type": "stream",
     "text": [
      "WARNING:tensorflow:From /usr/local/lib/python3.6/dist-packages/keras/backend/tensorflow_backend.py:4070: The name tf.nn.max_pool is deprecated. Please use tf.nn.max_pool2d instead.\n",
      "\n"
     ]
    }
   ],
   "source": [
    "\n",
    "import numpy as np\n",
    "import pandas as pd \n",
    "import h5py\n",
    "from datetime import datetime, date, time, timezone\n",
    "import matplotlib.pyplot as plt\n",
    "from test_helpers import load_data_mat, load_data_whisper\n",
    "import tensorflow as tf\n",
    "print(tf.__version__)\n",
    "import keras as K\n",
    "from keras.models import Model, Sequential,load_model\n",
    "from keras import optimizers\n",
    "from keras.utils import plot_model\n",
    "from keras.layers import TimeDistributed\n",
    "from keras.utils import to_categorical\n",
    "from keras.callbacks import  Callback, ModelCheckpoint, ReduceLROnPlateau, LearningRateScheduler,LambdaCallback,EarlyStopping\n",
    "from preprocess_and_segmentation import preprocess_inputdata,segment_all_dict_data,reshape_segmented_arrays,plot_segment\n",
    "from keras_utilities import evaluate_model,augmenting_func,plot_history\n",
    "from ResNet_module_CAD_detector import ResNet1D\n",
    "#from ResNet_module_V3 import ResNet1D\n",
    "from h5_helperfunctions import save_dict_to_hdf5, load_dict_from_hdf5\n",
    "\n",
    "np.random.seed(1234)"
   ]
  },
  {
   "cell_type": "code",
   "execution_count": 7,
   "metadata": {
    "colab": {
     "base_uri": "https://localhost:8080/",
     "height": 51
    },
    "colab_type": "code",
    "executionInfo": {
     "elapsed": 418221,
     "status": "ok",
     "timestamp": 1580315329092,
     "user": {
      "displayName": "Mojtaba Jafari tadi",
      "photoUrl": "",
      "userId": "13580919350484230920"
     },
     "user_tz": -120
    },
    "id": "6UEVcnyfDLyh",
    "outputId": "0788f55a-d754-4792-88fb-e547a3620af9"
   },
   "outputs": [
    {
     "name": "stdout",
     "output_type": "stream",
     "text": [
      "Loaded mat/content/drive/My Drive/Colab Notebooks/CAD Project/WHISPER DATA CAD/CAD Train\n",
      "Loaded mat/content/drive/My Drive/Colab Notebooks/CAD Project/WHISPER DATA CAD/HEALTHY Train\n"
     ]
    }
   ],
   "source": [
    "############################# import and resample the train data \n",
    "\n",
    "_, input_train_CAD = load_data_whisper('/content/drive/My Drive/Colab Notebooks/CAD Project/WHISPER DATA CAD/CAD Train')\n",
    "_, input_train_healthy = load_data_whisper('/content/drive/My Drive/Colab Notebooks/CAD Project/WHISPER DATA CAD/HEALTHY Train')\n",
    "\n",
    "#save_dict_to_hdf5(input_train_AFib,'AFib_train.h5')\n",
    "#save_dict_to_hdf5(input_train_SR,'SR_train.h5')\n",
    "#save_dict_to_hdf5(input_train_noise,'noise_train.h5')\n",
    "\n",
    "\n",
    "\n",
    "#input_train_AFib=load_dict_from_hdf5('/content/drive/My Drive/Colab Notebooks/AFib Detection/data/h5files/AFib_train.h5')\n",
    "#input_train_SR=load_dict_from_hdf5('/content/drive/My Drive/Colab Notebooks/AFib Detection/data/h5files/SR_train.h5')\n",
    "#input_train_noise=load_dict_from_hdf5('/content/drive/My Drive/Colab Notebooks/AFib Detection/data/h5files/noise_train.h5')"
   ]
  },
  {
   "cell_type": "code",
   "execution_count": 0,
   "metadata": {
    "colab": {},
    "colab_type": "code",
    "id": "KSrWbmE3DLyj"
   },
   "outputs": [],
   "source": [
    "############################# preprocess and filter the train data \n",
    "############################# preprocess and filter the train data \n",
    "\n",
    "CAD_train_org,CAD_train_env=preprocess_inputdata(input_train_CAD,label=1)\n",
    "HEL_train_org,HEL_train_env=preprocess_inputdata(input_train_healthy,label=0)\n",
    "\n",
    "all_train_org={}\n",
    "\n",
    "all_train_org.update(CAD_train_org)\n",
    "all_train_org.update(HEL_train_org)\n",
    "\n"
   ]
  },
  {
   "cell_type": "code",
   "execution_count": 9,
   "metadata": {
    "colab": {
     "base_uri": "https://localhost:8080/",
     "height": 68
    },
    "colab_type": "code",
    "executionInfo": {
     "elapsed": 586318,
     "status": "ok",
     "timestamp": 1580315497212,
     "user": {
      "displayName": "Mojtaba Jafari tadi",
      "photoUrl": "",
      "userId": "13580919350484230920"
     },
     "user_tz": -120
    },
    "id": "xbygRrTIDLym",
    "outputId": "fb1d1138-33f7-4dc9-a006-19be88d62f27"
   },
   "outputs": [
    {
     "name": "stdout",
     "output_type": "stream",
     "text": [
      "shape of the array of segments is : (55987, 1024, 6)\n",
      "shape of the array of IDs is : (55987, 1)\n",
      "shape of the array of labels is : (55987, 1)\n"
     ]
    }
   ],
   "source": [
    "segment_length = 1024\n",
    "segmented_data_org= segment_all_dict_data(data_dict = all_train_org, seg_width=segment_length, overlap_perc = 0.5)\n",
    "\n",
    "X_org, y_org,ID_train_org = reshape_segmented_arrays(segmented_data_org, shuffle_IDs = False, \n",
    "                                    shuffle_segments = False, \n",
    "                                    outlier_rejection_flag = False, \n",
    "                                    segment_standardization_flag = True)"
   ]
  },
  {
   "cell_type": "code",
   "execution_count": 10,
   "metadata": {
    "colab": {
     "base_uri": "https://localhost:8080/",
     "height": 513
    },
    "colab_type": "code",
    "executionInfo": {
     "elapsed": 586820,
     "status": "ok",
     "timestamp": 1580315497728,
     "user": {
      "displayName": "Mojtaba Jafari tadi",
      "photoUrl": "",
      "userId": "13580919350484230920"
     },
     "user_tz": -120
    },
    "id": "WCPrq3JTPduR",
    "outputId": "728e03a9-3500-4062-b283-7056ff0e84eb"
   },
   "outputs": [
    {
     "data": {
      "image/png": "[encoded data removed]",
      "text/plain": [
       "<Figure size 432x288 with 1 Axes>"
      ]
     },
     "metadata": {
      "tags": []
     },
     "output_type": "display_data"
    },
    {
     "data": {
      "image/png": "[encoded data removed]",
      "text/plain": [
       "<Figure size 432x288 with 1 Axes>"
      ]
     },
     "execution_count": 10,
     "metadata": {
      "tags": []
     },
     "output_type": "execute_result"
    }
   ],
   "source": [
    "plot_segment(X_org,1234,3,4)\n"
   ]
  },
  {
   "cell_type": "code",
   "execution_count": 11,
   "metadata": {
    "colab": {
     "base_uri": "https://localhost:8080/",
     "height": 85
    },
    "colab_type": "code",
    "executionInfo": {
     "elapsed": 595667,
     "status": "ok",
     "timestamp": 1580315506592,
     "user": {
      "displayName": "Mojtaba Jafari tadi",
      "photoUrl": "",
      "userId": "13580919350484230920"
     },
     "user_tz": -120
    },
    "id": "jpKjwkqaDLyo",
    "outputId": "1a7176d2-09b4-4634-c672-224e35181b92"
   },
   "outputs": [
    {
     "name": "stdout",
     "output_type": "stream",
     "text": [
      "Loaded mat/content/drive/My Drive/Colab Notebooks/CAD Project/WHISPER DATA CAD/CAD Validation\n",
      "Loaded mat/content/drive/My Drive/Colab Notebooks/CAD Project/WHISPER DATA CAD/HEALTHY Validation\n",
      "Loaded mat/content/drive/My Drive/Colab Notebooks/CAD Project/WHISPER DATA CAD/CAD Test\n",
      "Loaded mat/content/drive/My Drive/Colab Notebooks/CAD Project/WHISPER DATA CAD/HEALTHY Test\n"
     ]
    }
   ],
   "source": [
    "############################# import and resample the development data \n",
    "\n",
    "_, input_dev_CAD = load_data_whisper('/content/drive/My Drive/Colab Notebooks/CAD Project/WHISPER DATA CAD/CAD Validation')\n",
    "_, input_dev_HEL = load_data_whisper('/content/drive/My Drive/Colab Notebooks/CAD Project/WHISPER DATA CAD/HEALTHY Validation')\n",
    "\n",
    "\n",
    "_, input_test_CAD = load_data_whisper('/content/drive/My Drive/Colab Notebooks/CAD Project/WHISPER DATA CAD/CAD Test')\n",
    "_, input_test_HEL = load_data_whisper('/content/drive/My Drive/Colab Notebooks/CAD Project/WHISPER DATA CAD/HEALTHY Test')\n",
    "\n",
    "#save_dict_to_hdf5(input_dev_AFib,'AFib_valid.h5')\n",
    "#save_dict_to_hdf5(input_dev_SR,'SR_valid.h5')\n",
    "#save_dict_to_hdf5(input_dev_noise,'noise_valid.h5')\n",
    "#\n",
    "#input_dev_AFib=load_dict_from_hdf5('/content/drive/My Drive/Colab Notebooks/AFib Detection/data/h5files/AFib_valid.h5')\n",
    "#input_dev_SR=load_dict_from_hdf5('/content/drive/My Drive/Colab Notebooks/AFib Detection/data/h5files/SR_valid.h5')\n",
    "#input_dev_noise=load_dict_from_hdf5('/content/drive/My Drive/Colab Notebooks/AFib Detection/data/h5files/noise_valid.h5')"
   ]
  },
  {
   "cell_type": "code",
   "execution_count": 12,
   "metadata": {
    "colab": {
     "base_uri": "https://localhost:8080/",
     "height": 68
    },
    "colab_type": "code",
    "executionInfo": {
     "elapsed": 629778,
     "status": "ok",
     "timestamp": 1580315540717,
     "user": {
      "displayName": "Mojtaba Jafari tadi",
      "photoUrl": "",
      "userId": "13580919350484230920"
     },
     "user_tz": -120
    },
    "id": "VyZ75UMmDLyr",
    "outputId": "aee235a5-da0c-4d5a-9ff6-7933e7a69614"
   },
   "outputs": [
    {
     "name": "stdout",
     "output_type": "stream",
     "text": [
      "shape of the array of segments is : (11496, 1024, 6)\n",
      "shape of the array of IDs is : (11496, 1)\n",
      "shape of the array of labels is : (11496, 1)\n"
     ]
    }
   ],
   "source": [
    "############################# preprocess and filter the development data \n",
    "CAD_dev_org,CAD_dev_env=preprocess_inputdata(input_dev_CAD,label=1)\n",
    "HEL_dev_org,HEL_dev_env=preprocess_inputdata(input_dev_HEL,label=0)\n",
    "\n",
    "all_dev_org={}\n",
    "\n",
    "all_dev_org.update(CAD_dev_org)\n",
    "all_dev_org.update(HEL_dev_org)\n",
    "\n",
    "\n",
    "############################# segment and reshape\n",
    "\n",
    "segment_length = 1024\n",
    "segmented_devdata_org= segment_all_dict_data(data_dict = all_dev_org, seg_width=segment_length, overlap_perc = 0.5)\n",
    "\n",
    "X_dev_org, y_dev_org,ID_dev_org = reshape_segmented_arrays(segmented_devdata_org, shuffle_IDs = False, \n",
    "                                    shuffle_segments = False, \n",
    "                                    outlier_rejection_flag = False, \n",
    "                                    segment_standardization_flag = True)\n",
    " "
   ]
  },
  {
   "cell_type": "code",
   "execution_count": 0,
   "metadata": {
    "colab": {},
    "colab_type": "code",
    "id": "6jZEOlA9DLyt"
   },
   "outputs": [],
   "source": [
    "#X_train_aug , y_train_aug = augmenting_func(X_org, y_org)"
   ]
  },
  {
   "cell_type": "code",
   "execution_count": 14,
   "metadata": {
    "colab": {
     "base_uri": "https://localhost:8080/",
     "height": 68
    },
    "colab_type": "code",
    "executionInfo": {
     "elapsed": 663860,
     "status": "ok",
     "timestamp": 1580315574823,
     "user": {
      "displayName": "Mojtaba Jafari tadi",
      "photoUrl": "",
      "userId": "13580919350484230920"
     },
     "user_tz": -120
    },
    "id": "c3vq8G2lj9cT",
    "outputId": "e8c90596-c53f-4b90-eb9a-3f3a36b198a5"
   },
   "outputs": [
    {
     "name": "stdout",
     "output_type": "stream",
     "text": [
      "shape of the array of segments is : (11457, 1024, 6)\n",
      "shape of the array of IDs is : (11457, 1)\n",
      "shape of the array of labels is : (11457, 1)\n"
     ]
    }
   ],
   "source": [
    "############################# preprocess and filter the development data \n",
    "CAD_test_org,CAD_test_env=preprocess_inputdata(input_test_CAD,label=1)\n",
    "HEL_test_org,HEL_test_env=preprocess_inputdata(input_test_HEL,label=0)\n",
    "\n",
    "all_test_org={}\n",
    "\n",
    "all_test_org.update(CAD_test_org)\n",
    "all_test_org.update(HEL_test_org)\n",
    "\n",
    "\n",
    "############################# segment and reshape\n",
    "\n",
    "segment_length = 1024\n",
    "segmented_devdata_org= segment_all_dict_data(data_dict = all_test_org, seg_width=segment_length, overlap_perc = 0.5)\n",
    "\n",
    "X_test_org, y_test_org,ID_test_org = reshape_segmented_arrays(segmented_devdata_org, shuffle_IDs = False, \n",
    "                                    shuffle_segments = False, \n",
    "                                    outlier_rejection_flag = False, \n",
    "                                    segment_standardization_flag = True)\n",
    " "
   ]
  },
  {
   "cell_type": "code",
   "execution_count": 15,
   "metadata": {
    "colab": {
     "base_uri": "https://localhost:8080/",
     "height": 282
    },
    "colab_type": "code",
    "executionInfo": {
     "elapsed": 663841,
     "status": "ok",
     "timestamp": 1580315574824,
     "user": {
      "displayName": "Mojtaba Jafari tadi",
      "photoUrl": "",
      "userId": "13580919350484230920"
     },
     "user_tz": -120
    },
    "id": "y6ltmpikRJJH",
    "outputId": "121635c7-1748-4d3d-fcd5-03318b4b3da0"
   },
   "outputs": [
    {
     "data": {
      "image/png": "[encoded data removed]",
      "text/plain": [
       "<Figure size 432x288 with 1 Axes>"
      ]
     },
     "metadata": {
      "tags": []
     },
     "output_type": "display_data"
    },
    {
     "name": "stdout",
     "output_type": "stream",
     "text": [
      "(11496, 1024, 6)\n"
     ]
    }
   ],
   "source": [
    "plot_segment(X_test_org,124,3,4)\n",
    "print(X_dev_org.shape)"
   ]
  },
  {
   "cell_type": "code",
   "execution_count": 16,
   "metadata": {
    "colab": {
     "base_uri": "https://localhost:8080/",
     "height": 258
    },
    "colab_type": "code",
    "executionInfo": {
     "elapsed": 677436,
     "status": "ok",
     "timestamp": 1580315588438,
     "user": {
      "displayName": "Mojtaba Jafari tadi",
      "photoUrl": "",
      "userId": "13580919350484230920"
     },
     "user_tz": -120
    },
    "id": "ASob5Z6kO0O9",
    "outputId": "111dd3ce-95c4-427c-ed44-cdee64e49bc8"
   },
   "outputs": [
    {
     "name": "stdout",
     "output_type": "stream",
     "text": [
      "Collecting gputil\n",
      "  Downloading https://files.pythonhosted.org/packages/ed/0e/5c61eedde9f6c87713e89d794f01e378cfd9565847d4576fa627d758c554/GPUtil-1.4.0.tar.gz\n",
      "Building wheels for collected packages: gputil\n",
      "  Building wheel for gputil (setup.py) ... \u001b[?25l\u001b[?25hdone\n",
      "  Created wheel for gputil: filename=GPUtil-1.4.0-cp36-none-any.whl size=7410 sha256=7bb24586cb9c4a68398787b7ea17666915403120cc4ea53d8e45cadf80906940\n",
      "  Stored in directory: /root/.cache/pip/wheels/3d/77/07/80562de4bb0786e5ea186911a2c831fdd0018bda69beab71fd\n",
      "Successfully built gputil\n",
      "Installing collected packages: gputil\n",
      "Successfully installed gputil-1.4.0\n",
      "Requirement already satisfied: psutil in /usr/local/lib/python3.6/dist-packages (5.4.8)\n",
      "Requirement already satisfied: humanize in /usr/local/lib/python3.6/dist-packages (0.5.1)\n",
      "Gen RAM Free: 20.2 GB  | Proc size: 14.6 GB\n",
      "GPU RAM Free: 16015MB | Used: 265MB | Util   2% | Total 16280MB\n"
     ]
    }
   ],
   "source": [
    "!ln -sf /opt/bin/nvidia-smi /usr/bin/nvidia-smi\n",
    "!pip install gputil\n",
    "!pip install psutil\n",
    "!pip install humanize\n",
    "import psutil\n",
    "import humanize\n",
    "import os\n",
    "import GPUtil as GPU\n",
    "GPUs = GPU.getGPUs()\n",
    "# XXX: only one GPU on Colab and isn’t guaranteed\n",
    "gpu = GPUs[0]\n",
    "def printm():\n",
    " process = psutil.Process(os.getpid())\n",
    " print(\"Gen RAM Free: \" + humanize.naturalsize( psutil.virtual_memory().available ), \" | Proc size: \" + humanize.naturalsize( process.memory_info().rss))\n",
    " print(\"GPU RAM Free: {0:.0f}MB | Used: {1:.0f}MB | Util {2:3.0f}% | Total {3:.0f}MB\".format(gpu.memoryFree, gpu.memoryUsed, gpu.memoryUtil*100, gpu.memoryTotal))\n",
    "printm() "
   ]
  },
  {
   "cell_type": "code",
   "execution_count": 17,
   "metadata": {
    "colab": {
     "base_uri": "https://localhost:8080/",
     "height": 119
    },
    "colab_type": "code",
    "executionInfo": {
     "elapsed": 677419,
     "status": "ok",
     "timestamp": 1580315588439,
     "user": {
      "displayName": "Mojtaba Jafari tadi",
      "photoUrl": "",
      "userId": "13580919350484230920"
     },
     "user_tz": -120
    },
    "id": "rm5cAcvx1X8d",
    "outputId": "cc2263e3-0f3f-4faa-d743-629e9b4b35b7"
   },
   "outputs": [
    {
     "name": "stdout",
     "output_type": "stream",
     "text": [
      "number of training examples = 55987\n",
      "number of test examples = 11457\n",
      "X_train shape: (55987, 1024, 6)\n",
      "Y_train shape: (55987, 2)\n",
      "X_test shape: (11457, 1024, 6)\n",
      "Y_test shape: (11457, 2)\n"
     ]
    }
   ],
   "source": [
    "from sklearn.preprocessing import OneHotEncoder\n",
    "\n",
    "#model.summary()\n",
    "X_train=X_org\n",
    "X_val=X_dev_org\n",
    "X_test=X_test_org\n",
    "\n",
    "enc = OneHotEncoder()\n",
    "enc.fit(y_org)\n",
    "Y_train = enc.transform(y_org).toarray()\n",
    "Y_val = enc.transform(y_dev_org).toarray()\n",
    "Y_test = enc.transform(y_test_org).toarray()\n",
    "\n",
    "print (\"number of training examples = \" + str(X_train.shape[0]))\n",
    "print (\"number of test examples = \" + str(X_test.shape[0]))\n",
    "print (\"X_train shape: \" + str(X_train.shape))\n",
    "print (\"Y_train shape: \" + str(Y_train.shape))\n",
    "print (\"X_test shape: \" + str(X_test.shape))\n",
    "print (\"Y_test shape: \" + str(Y_test.shape))"
   ]
  },
  {
   "cell_type": "code",
   "execution_count": 0,
   "metadata": {
    "colab": {},
    "colab_type": "code",
    "id": "nWKrjq5s8vpC"
   },
   "outputs": [],
   "source": [
    "\n",
    "lr_reducer_loss = ReduceLROnPlateau(monitor='val_loss',factor=0.5,cooldown=1, patience=10)\n",
    "            \n",
    "lr_reducer_acc = ReduceLROnPlateau(monitor = 'val_acc' , factor=1e-1, mode = 'max', cooldown=0,patience=5, min_lr=0.5e-6)\n",
    "            \n",
    "#lr_scheduler = LearningRateScheduler(scheduler)\n",
    "\n",
    "######################################## \n",
    "filepath=\"/content/drive/My Drive/Colab Notebooks/AFib Detection/models/bestmodel_cad.ckpt\"\n",
    "#checkpoint = ModelCheckpoint(filepath, monitor= 'val_accuracy' , verbose=1, save_best_only=True, )\n",
    "es = EarlyStopping(monitor='val_loss',min_delta=0,patience=3,verbose=1, mode='min')\n",
    "checkpoint = ModelCheckpoint(filepath, verbose=1, save_best_only=True, mode='max')\n",
    "#\n",
    "\n",
    "\n",
    "######################################## \n",
    "#model_ckpt = ModelCheckpoint(filepath, monitor='val_acc', verbose=1, save_best_only=True, mode='max')\n",
    "######################################## \n",
    "\n",
    "\n",
    "my_callbacks = [lr_reducer_loss]\n"
   ]
  },
  {
   "cell_type": "code",
   "execution_count": 0,
   "metadata": {
    "colab": {},
    "colab_type": "code",
    "id": "o-AdHmoYMq3A"
   },
   "outputs": [],
   "source": [
    "model = ResNet1D(input_shape = (1024, 6), classes = 2)\n",
    "adam_opt=optimizers.Adam(learning_rate=0.001, beta_1=0.9, beta_2=0.999, amsgrad=False)\n",
    "model.compile(optimizer='adam', loss='binary_crossentropy', metrics=['accuracy'])"
   ]
  },
  {
   "cell_type": "code",
   "execution_count": 0,
   "metadata": {
    "colab": {
     "base_uri": "https://localhost:8080/",
     "height": 170
    },
    "colab_type": "code",
    "id": "sJbtLwZiSIc_",
    "outputId": "ed40528c-ab76-4d5f-ca4d-6789b6b5d253"
   },
   "outputs": [
    {
     "name": "stdout",
     "output_type": "stream",
     "text": [
      "Train on 55987 samples, validate on 11496 samples\n",
      "Epoch 1/40\n",
      "55987/55987 [==============================] - 234s 4ms/step - loss: 0.5183 - accuracy: 0.7627 - val_loss: 2.3572 - val_accuracy: 0.5882\n",
      "Epoch 2/40\n",
      "55987/55987 [==============================] - 193s 3ms/step - loss: 0.2114 - accuracy: 0.9228 - val_loss: 2.0228 - val_accuracy: 0.5882\n",
      "Epoch 3/40\n",
      "55987/55987 [==============================] - 193s 3ms/step - loss: 0.1025 - accuracy: 0.9661 - val_loss: 0.6083 - val_accuracy: 0.7187\n",
      "Epoch 4/40\n",
      "15040/55987 [=======>......................] - ETA: 2:17 - loss: 0.0774 - accuracy: 0.9755"
     ]
    }
   ],
   "source": [
    "#model.fit(X_train, Y_train, epochs = 100, batch_size = 64)\n",
    "#preds = model.evaluate(X_val, Y_val)\n",
    "           \n",
    "#checkpoint = ModelCheckpoint(filepath, monitor= 'val_accuracy' , verbose=1, save_best_only=True, mode='max')\n",
    "#custom = LambdaCallback(on_epoch_end=lambda epoch,logs: test_callback_wrapper())\n",
    "\n",
    "\n",
    "clf_history=model.fit(X_train, Y_train, validation_data= (X_val, Y_val), epochs=40, batch_size=64, callbacks= my_callbacks,\n",
    "                      shuffle = True)\n",
    "\n",
    "model.save_weights('/content/drive/My Drive/Colab Notebooks/CAD Project/WHISPER DATA CAD/CADdetector_model.h5')\n",
    "\n",
    "print(clf_history.history['loss'])\n",
    "epochs_range = np.arange(len(clf_history.history['loss']))\n",
    "\n"
   ]
  },
  {
   "cell_type": "code",
   "execution_count": 24,
   "metadata": {
    "colab": {
     "base_uri": "https://localhost:8080/",
     "height": 409
    },
    "colab_type": "code",
    "executionInfo": {
     "elapsed": 22531,
     "status": "error",
     "timestamp": 1580317339144,
     "user": {
      "displayName": "Mojtaba Jafari tadi",
      "photoUrl": "",
      "userId": "13580919350484230920"
     },
     "user_tz": -120
    },
    "id": "4bM006Do7FRi",
    "outputId": "d96d8dcc-a2a8-4ff0-f837-8407cc20a5bf"
   },
   "outputs": [
    {
     "name": "stdout",
     "output_type": "stream",
     "text": [
      "11457/11457 [==============================] - 11s 989us/step\n",
      "accuracy: 70.21%\n"
     ]
    },
    {
     "ename": "KeyboardInterrupt",
     "evalue": "ignored",
     "output_type": "error",
     "traceback": [
      "\u001b[0;31m---------------------------------------------------------------------------\u001b[0m",
      "\u001b[0;31mKeyboardInterrupt\u001b[0m                         Traceback (most recent call last)",
      "\u001b[0;32m<ipython-input-24-bc4cdd3f67f2>\u001b[0m in \u001b[0;36m<module>\u001b[0;34m()\u001b[0m\n\u001b[1;32m      3\u001b[0m \u001b[0mscore\u001b[0m \u001b[0;34m=\u001b[0m \u001b[0mmodel\u001b[0m\u001b[0;34m.\u001b[0m\u001b[0mevaluate\u001b[0m\u001b[0;34m(\u001b[0m\u001b[0mX_test_org\u001b[0m\u001b[0;34m,\u001b[0m \u001b[0mY_test\u001b[0m\u001b[0;34m,\u001b[0m\u001b[0mverbose\u001b[0m\u001b[0;34m=\u001b[0m\u001b[0;36m1\u001b[0m\u001b[0;34m)\u001b[0m\u001b[0;34m\u001b[0m\u001b[0;34m\u001b[0m\u001b[0m\n\u001b[1;32m      4\u001b[0m \u001b[0mprint\u001b[0m\u001b[0;34m(\u001b[0m\u001b[0;34m\"%s: %.2f%%\"\u001b[0m \u001b[0;34m%\u001b[0m \u001b[0;34m(\u001b[0m\u001b[0mmodel\u001b[0m\u001b[0;34m.\u001b[0m\u001b[0mmetrics_names\u001b[0m\u001b[0;34m[\u001b[0m\u001b[0;36m1\u001b[0m\u001b[0;34m]\u001b[0m\u001b[0;34m,\u001b[0m \u001b[0mscore\u001b[0m\u001b[0;34m[\u001b[0m\u001b[0;36m1\u001b[0m\u001b[0;34m]\u001b[0m\u001b[0;34m*\u001b[0m\u001b[0;36m100\u001b[0m\u001b[0;34m)\u001b[0m\u001b[0;34m)\u001b[0m\u001b[0;34m\u001b[0m\u001b[0;34m\u001b[0m\u001b[0m\n\u001b[0;32m----> 5\u001b[0;31m \u001b[0my_pred\u001b[0m \u001b[0;34m=\u001b[0m \u001b[0mmodel\u001b[0m\u001b[0;34m.\u001b[0m\u001b[0mpredict\u001b[0m\u001b[0;34m(\u001b[0m\u001b[0mX_test_org\u001b[0m\u001b[0;34m)\u001b[0m\u001b[0;34m\u001b[0m\u001b[0;34m\u001b[0m\u001b[0m\n\u001b[0m\u001b[1;32m      6\u001b[0m \u001b[0mmatrix\u001b[0m \u001b[0;34m=\u001b[0m \u001b[0mconfusion_matrix\u001b[0m\u001b[0;34m(\u001b[0m\u001b[0mY_test\u001b[0m\u001b[0;34m.\u001b[0m\u001b[0margmax\u001b[0m\u001b[0;34m(\u001b[0m\u001b[0maxis\u001b[0m\u001b[0;34m=\u001b[0m\u001b[0;36m1\u001b[0m\u001b[0;34m)\u001b[0m\u001b[0;34m,\u001b[0m \u001b[0my_pred\u001b[0m\u001b[0;34m.\u001b[0m\u001b[0margmax\u001b[0m\u001b[0;34m(\u001b[0m\u001b[0maxis\u001b[0m\u001b[0;34m=\u001b[0m\u001b[0;36m1\u001b[0m\u001b[0;34m)\u001b[0m\u001b[0;34m)\u001b[0m\u001b[0;34m\u001b[0m\u001b[0;34m\u001b[0m\u001b[0m\n\u001b[1;32m      7\u001b[0m \u001b[0mprint\u001b[0m\u001b[0;34m(\u001b[0m\u001b[0;34m'Confusion Matrix'\u001b[0m\u001b[0;34m)\u001b[0m\u001b[0;34m\u001b[0m\u001b[0;34m\u001b[0m\u001b[0m\n",
      "\u001b[0;32m/usr/local/lib/python3.6/dist-packages/keras/engine/training.py\u001b[0m in \u001b[0;36mpredict\u001b[0;34m(self, x, batch_size, verbose, steps, callbacks, max_queue_size, workers, use_multiprocessing)\u001b[0m\n\u001b[1;32m   1460\u001b[0m                                             \u001b[0mverbose\u001b[0m\u001b[0;34m=\u001b[0m\u001b[0mverbose\u001b[0m\u001b[0;34m,\u001b[0m\u001b[0;34m\u001b[0m\u001b[0;34m\u001b[0m\u001b[0m\n\u001b[1;32m   1461\u001b[0m                                             \u001b[0msteps\u001b[0m\u001b[0;34m=\u001b[0m\u001b[0msteps\u001b[0m\u001b[0;34m,\u001b[0m\u001b[0;34m\u001b[0m\u001b[0;34m\u001b[0m\u001b[0m\n\u001b[0;32m-> 1462\u001b[0;31m                                             callbacks=callbacks)\n\u001b[0m\u001b[1;32m   1463\u001b[0m \u001b[0;34m\u001b[0m\u001b[0m\n\u001b[1;32m   1464\u001b[0m     def train_on_batch(self, x, y,\n",
      "\u001b[0;32m/usr/local/lib/python3.6/dist-packages/keras/engine/training_arrays.py\u001b[0m in \u001b[0;36mpredict_loop\u001b[0;34m(model, f, ins, batch_size, verbose, steps, callbacks)\u001b[0m\n\u001b[1;32m    322\u001b[0m             \u001b[0mbatch_logs\u001b[0m \u001b[0;34m=\u001b[0m \u001b[0;34m{\u001b[0m\u001b[0;34m'batch'\u001b[0m\u001b[0;34m:\u001b[0m \u001b[0mbatch_index\u001b[0m\u001b[0;34m,\u001b[0m \u001b[0;34m'size'\u001b[0m\u001b[0;34m:\u001b[0m \u001b[0mlen\u001b[0m\u001b[0;34m(\u001b[0m\u001b[0mbatch_ids\u001b[0m\u001b[0;34m)\u001b[0m\u001b[0;34m}\u001b[0m\u001b[0;34m\u001b[0m\u001b[0;34m\u001b[0m\u001b[0m\n\u001b[1;32m    323\u001b[0m             \u001b[0mcallbacks\u001b[0m\u001b[0;34m.\u001b[0m\u001b[0m_call_batch_hook\u001b[0m\u001b[0;34m(\u001b[0m\u001b[0;34m'predict'\u001b[0m\u001b[0;34m,\u001b[0m \u001b[0;34m'begin'\u001b[0m\u001b[0;34m,\u001b[0m \u001b[0mbatch_index\u001b[0m\u001b[0;34m,\u001b[0m \u001b[0mbatch_logs\u001b[0m\u001b[0;34m)\u001b[0m\u001b[0;34m\u001b[0m\u001b[0;34m\u001b[0m\u001b[0m\n\u001b[0;32m--> 324\u001b[0;31m             \u001b[0mbatch_outs\u001b[0m \u001b[0;34m=\u001b[0m \u001b[0mf\u001b[0m\u001b[0;34m(\u001b[0m\u001b[0mins_batch\u001b[0m\u001b[0;34m)\u001b[0m\u001b[0;34m\u001b[0m\u001b[0;34m\u001b[0m\u001b[0m\n\u001b[0m\u001b[1;32m    325\u001b[0m             \u001b[0mbatch_outs\u001b[0m \u001b[0;34m=\u001b[0m \u001b[0mto_list\u001b[0m\u001b[0;34m(\u001b[0m\u001b[0mbatch_outs\u001b[0m\u001b[0;34m)\u001b[0m\u001b[0;34m\u001b[0m\u001b[0;34m\u001b[0m\u001b[0m\n\u001b[1;32m    326\u001b[0m             \u001b[0;32mif\u001b[0m \u001b[0mbatch_index\u001b[0m \u001b[0;34m==\u001b[0m \u001b[0;36m0\u001b[0m\u001b[0;34m:\u001b[0m\u001b[0;34m\u001b[0m\u001b[0;34m\u001b[0m\u001b[0m\n",
      "\u001b[0;32m/usr/local/lib/python3.6/dist-packages/tensorflow/python/keras/backend.py\u001b[0m in \u001b[0;36m__call__\u001b[0;34m(self, inputs)\u001b[0m\n\u001b[1;32m   3290\u001b[0m \u001b[0;34m\u001b[0m\u001b[0m\n\u001b[1;32m   3291\u001b[0m     fetched = self._callable_fn(*array_vals,\n\u001b[0;32m-> 3292\u001b[0;31m                                 run_metadata=self.run_metadata)\n\u001b[0m\u001b[1;32m   3293\u001b[0m     \u001b[0mself\u001b[0m\u001b[0;34m.\u001b[0m\u001b[0m_call_fetch_callbacks\u001b[0m\u001b[0;34m(\u001b[0m\u001b[0mfetched\u001b[0m\u001b[0;34m[\u001b[0m\u001b[0;34m-\u001b[0m\u001b[0mlen\u001b[0m\u001b[0;34m(\u001b[0m\u001b[0mself\u001b[0m\u001b[0;34m.\u001b[0m\u001b[0m_fetches\u001b[0m\u001b[0;34m)\u001b[0m\u001b[0;34m:\u001b[0m\u001b[0;34m]\u001b[0m\u001b[0;34m)\u001b[0m\u001b[0;34m\u001b[0m\u001b[0;34m\u001b[0m\u001b[0m\n\u001b[1;32m   3294\u001b[0m     output_structure = nest.pack_sequence_as(\n",
      "\u001b[0;32m/usr/local/lib/python3.6/dist-packages/tensorflow/python/client/session.py\u001b[0m in \u001b[0;36m__call__\u001b[0;34m(self, *args, **kwargs)\u001b[0m\n\u001b[1;32m   1456\u001b[0m         ret = tf_session.TF_SessionRunCallable(self._session._session,\n\u001b[1;32m   1457\u001b[0m                                                \u001b[0mself\u001b[0m\u001b[0;34m.\u001b[0m\u001b[0m_handle\u001b[0m\u001b[0;34m,\u001b[0m \u001b[0margs\u001b[0m\u001b[0;34m,\u001b[0m\u001b[0;34m\u001b[0m\u001b[0;34m\u001b[0m\u001b[0m\n\u001b[0;32m-> 1458\u001b[0;31m                                                run_metadata_ptr)\n\u001b[0m\u001b[1;32m   1459\u001b[0m         \u001b[0;32mif\u001b[0m \u001b[0mrun_metadata\u001b[0m\u001b[0;34m:\u001b[0m\u001b[0;34m\u001b[0m\u001b[0;34m\u001b[0m\u001b[0m\n\u001b[1;32m   1460\u001b[0m           \u001b[0mproto_data\u001b[0m \u001b[0;34m=\u001b[0m \u001b[0mtf_session\u001b[0m\u001b[0;34m.\u001b[0m\u001b[0mTF_GetBuffer\u001b[0m\u001b[0;34m(\u001b[0m\u001b[0mrun_metadata_ptr\u001b[0m\u001b[0;34m)\u001b[0m\u001b[0;34m\u001b[0m\u001b[0;34m\u001b[0m\u001b[0m\n",
      "\u001b[0;31mKeyboardInterrupt\u001b[0m: "
     ]
    }
   ],
   "source": [
    "#plot_history(clf_history)\n",
    "from sklearn.metrics import classification_report, confusion_matrix\n",
    "\n",
    "score = model.evaluate(X_test_org, Y_test,verbose=1)\n",
    "print(\"%s: %.2f%%\" % (model.metrics_names[1], score[1]*100))\n",
    "y_pred = model.predict(X_test_org)\n",
    "matrix = confusion_matrix(Y_test.argmax(axis=1), y_pred.argmax(axis=1))\n",
    "print('Confusion Matrix')\n",
    "print(matrix)\n",
    "print('Classification Report')\n",
    "target_names = ['Healthy', 'CAD']\n",
    "#print(classification_report(y_test_org, y_pred, target_names=target_names))"
   ]
  },
  {
   "cell_type": "code",
   "execution_count": 22,
   "metadata": {
    "colab": {
     "base_uri": "https://localhost:8080/",
     "height": 499
    },
    "colab_type": "code",
    "executionInfo": {
     "elapsed": 2066519,
     "status": "ok",
     "timestamp": 1580316977702,
     "user": {
      "displayName": "Mojtaba Jafari tadi",
      "photoUrl": "",
      "userId": "13580919350484230920"
     },
     "user_tz": -120
    },
    "id": "bu_Hpd-uesXl",
    "outputId": "97403014-f5ef-4b98-dfe2-4d776e9ecd88"
   },
   "outputs": [
    {
     "data": {
      "image/png": "[encoded data removed]",
      "text/plain": [
       "<Figure size 1152x576 with 2 Axes>"
      ]
     },
     "metadata": {
      "tags": []
     },
     "output_type": "display_data"
    }
   ],
   "source": [
    "\n",
    "acc = clf_history.history['accuracy']\n",
    "val_acc = clf_history.history['val_accuracy']\n",
    "\n",
    "loss = clf_history.history['loss']\n",
    "val_loss = clf_history.history['val_loss']\n",
    "\n",
    "epochs_range = np.arange(len(clf_history.history['loss']))\n",
    "\n",
    "plt.figure(figsize=(16,8))\n",
    "fig=plt.subplot(1, 2, 1)\n",
    "plt.plot(epochs_range, acc, label='Training Accuracy')\n",
    "plt.plot(epochs_range, val_acc, label='Validation Accuracy')\n",
    "plt.legend(loc='lower right')\n",
    "plt.title('Training and Validation Accuracy')\n",
    "\n",
    "plt.subplot(1, 2, 2)\n",
    "plt.plot(epochs_range, loss, label='Training Loss')\n",
    "plt.plot(epochs_range, val_loss, label='Validation Loss')\n",
    "plt.legend(loc='upper right')\n",
    "plt.title('Training and Validation Loss')\n",
    "plt.savefig('./learningcurves.png')"
   ]
  },
  {
   "cell_type": "code",
   "execution_count": 23,
   "metadata": {
    "colab": {
     "base_uri": "https://localhost:8080/",
     "height": 567
    },
    "colab_type": "code",
    "executionInfo": {
     "elapsed": 2066796,
     "status": "ok",
     "timestamp": 1580316978004,
     "user": {
      "displayName": "Mojtaba Jafari tadi",
      "photoUrl": "",
      "userId": "13580919350484230920"
     },
     "user_tz": -120
    },
    "id": "LT-iJw3xl5xR",
    "outputId": "bbf43d35-3cd0-40d1-95df-0fc02b3d57a7"
   },
   "outputs": [
    {
     "name": "stderr",
     "output_type": "stream",
     "text": [
      "/usr/local/lib/python3.6/dist-packages/ipykernel_launcher.py:30: DeprecationWarning: scipy.interp is deprecated and will be removed in SciPy 2.0.0, use numpy.interp instead\n"
     ]
    },
    {
     "data": {
      "image/png": "[encoded data removed]",
      "text/plain": [
       "<Figure size 576x576 with 1 Axes>"
      ]
     },
     "metadata": {
      "tags": []
     },
     "output_type": "display_data"
    },
    {
     "data": {
      "text/plain": [
       "<Figure size 432x288 with 0 Axes>"
      ]
     },
     "metadata": {
      "tags": []
     },
     "output_type": "display_data"
    }
   ],
   "source": [
    "import numpy as np\n",
    "from scipy import interp\n",
    "import matplotlib.pyplot as plt\n",
    "from itertools import cycle\n",
    "from sklearn.metrics import roc_curve, auc\n",
    "n_classes = 2\n",
    "# Plot linewidth.\n",
    "lw = 2\n",
    "\n",
    "# Compute ROC curve and ROC area for each class\n",
    "fpr = dict()\n",
    "tpr = dict()\n",
    "roc_auc = dict()\n",
    "for i in range(n_classes):\n",
    "    fpr[i], tpr[i], _ = roc_curve(Y_test[:, i], y_pred[:, i])\n",
    "    roc_auc[i] = auc(fpr[i], tpr[i])\n",
    "\n",
    "# Compute micro-average ROC curve and ROC area\n",
    "fpr[\"micro\"], tpr[\"micro\"], _ = roc_curve(Y_test.ravel(), y_pred.ravel())\n",
    "roc_auc[\"micro\"] = auc(fpr[\"micro\"], tpr[\"micro\"])\n",
    "\n",
    "# Compute macro-average ROC curve and ROC area\n",
    "\n",
    "# First aggregate all false positive rates\n",
    "all_fpr = np.unique(np.concatenate([fpr[i] for i in range(n_classes)]))\n",
    "\n",
    "# Then interpolate all ROC curves at this points\n",
    "mean_tpr = np.zeros_like(all_fpr)\n",
    "for i in range(n_classes):\n",
    "    mean_tpr += interp(all_fpr, fpr[i], tpr[i])\n",
    "\n",
    "# Finally average it and compute AUC\n",
    "mean_tpr /= n_classes\n",
    "\n",
    "fpr[\"macro\"] = all_fpr\n",
    "tpr[\"macro\"] = mean_tpr\n",
    "roc_auc[\"macro\"] = auc(fpr[\"macro\"], tpr[\"macro\"])\n",
    "\n",
    "# Plot all ROC curves\n",
    "plt.figure(figsize=(8,8))\n",
    "plt.plot(fpr[\"micro\"], tpr[\"micro\"],\n",
    "         label='micro-average ROC curve (area = {0:0.2f})'\n",
    "               ''.format(roc_auc[\"micro\"]),\n",
    "         color='deeppink', linestyle=':', linewidth=4)\n",
    "\n",
    "plt.plot(fpr[\"macro\"], tpr[\"macro\"],\n",
    "         label='macro-average ROC curve (area = {0:0.2f})'\n",
    "               ''.format(roc_auc[\"macro\"]),\n",
    "         color='navy', linestyle=':', linewidth=4)\n",
    "\n",
    "colors = cycle(['aqua', 'darkorange', 'cornflowerblue'])\n",
    "for i, color in zip(range(n_classes), colors):\n",
    "    plt.plot(fpr[i], tpr[i], color=color, lw=lw,\n",
    "             label='ROC curve of class {0} (area = {1:0.2f})'\n",
    "             ''.format(i, roc_auc[i]))\n",
    "\n",
    "plt.plot([0, 1], [0, 1], 'k--', lw=lw)\n",
    "plt.xlim([0.0, 1.0])\n",
    "plt.ylim([0.0, 1.05])\n",
    "plt.xlabel('False Positive Rate')\n",
    "plt.ylabel('True Positive Rate')\n",
    "plt.title('Receiver operating characteristic to multi-class')\n",
    "plt.legend(loc=\"lower right\")\n",
    "plt.show()\n",
    "\n",
    "\"\"\"\n",
    "# Zoom in view of the upper left corner.\n",
    "plt.figure(2)\n",
    "plt.xlim(0, 0.2)\n",
    "plt.ylim(0.8, 1)\n",
    "plt.plot(fpr[\"micro\"], tpr[\"micro\"],\n",
    "         label='micro-average ROC curve (area = {0:0.2f})'\n",
    "               ''.format(roc_auc[\"micro\"]),\n",
    "         color='deeppink', linestyle=':', linewidth=4)\n",
    "\n",
    "plt.plot(fpr[\"macro\"], tpr[\"macro\"],\n",
    "         label='macro-average ROC curve (area = {0:0.2f})'\n",
    "               ''.format(roc_auc[\"macro\"]),\n",
    "         color='navy', linestyle=':', linewidth=4)\n",
    "\n",
    "colors = cycle(['aqua', 'darkorange', 'cornflowerblue'])\n",
    "for i, color in zip(range(n_classes), colors):\n",
    "    plt.plot(fpr[i], tpr[i], color=color, lw=lw,\n",
    "             label='ROC curve of class {0} (area = {1:0.2f})'\n",
    "             ''.format(i, roc_auc[i]))\n",
    "\n",
    "plt.plot([0, 1], [0, 1], 'k--', lw=lw)\n",
    "plt.xlabel('False Positive Rate')\n",
    "plt.ylabel('True Positive Rate')\n",
    "plt.title('Some extension of Receiver operating characteristic to multi-class')\n",
    "plt.legend(loc=\"lower right\")\n",
    "plt.show()\n",
    "\"\"\"\n",
    "plt.savefig('./roc_curves.png')"
   ]
  }
 ],
 "metadata": {
  "accelerator": "GPU",
  "colab": {
   "collapsed_sections": [],
   "machine_shape": "hm",
   "name": "CAD_analyzer.ipynb",
   "provenance": [
    {
     "file_id": "18OTwCBKvcK2Y3IJMmg0LE0KtPNlRE0BH",
     "timestamp": 1574931222886
    },
    {
     "file_id": "1e-c5uEMU5hfdC9TKdUrMvLd3LmYQNvII",
     "timestamp": 1574689041829
    },
    {
     "file_id": "1-xFiWqX-1P70lbu_LqRVfIGM3OIaJGYy",
     "timestamp": 1574504151800
    }
   ]
  },
  "kernelspec": {
   "display_name": "Python 3",
   "language": "python",
   "name": "python3"
  },
  "language_info": {
   "codemirror_mode": {
    "name": "ipython",
    "version": 3
   },
   "file_extension": ".py",
   "mimetype": "text/x-python",
   "name": "python",
   "nbconvert_exporter": "python",
   "pygments_lexer": "ipython3",
   "version": "3.7.6"
  },
  "varInspector": {
   "cols": {
    "lenName": 16,
    "lenType": 16,
    "lenVar": 40
   },
   "kernels_config": {
    "python": {
     "delete_cmd_postfix": "",
     "delete_cmd_prefix": "del ",
     "library": "var_list.py",
     "varRefreshCmd": "print(var_dic_list())"
    },
    "r": {
     "delete_cmd_postfix": ") ",
     "delete_cmd_prefix": "rm(",
     "library": "var_list.r",
     "varRefreshCmd": "cat(var_dic_list()) "
    }
   },
   "types_to_exclude": [
    "module",
    "function",
    "builtin_function_or_method",
    "instance",
    "_Feature"
   ],
   "window_display": false
  }
 },
 "nbformat": 4,
 "nbformat_minor": 1
}
